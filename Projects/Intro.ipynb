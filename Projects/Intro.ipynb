{
 "cells": [
  {
   "cell_type": "markdown",
   "metadata": {},
   "source": [
    "Machine Learning Series\n",
    "===================\n",
    "\n",
    "\n",
    "-----\n",
    "\n",
    "#1 - Install **sklearn** and **quandl**\n",
    "======\n",
    "\n",
    "- pip install sklearn \n",
    "\n",
    "- pip install quandl\n",
    "\n",
    "- When using Jupyter Notebook use the following terminal entry \"**conda install -c https://conda.anaconda.org/anaconda quandl**\"\n",
    "\n",
    "- Make sure \"**urllib3**\" is installed as well!"
   ]
  },
  {
   "cell_type": "code",
   "execution_count": 1,
   "metadata": {},
   "outputs": [],
   "source": [
    "import sklearn as sk\n",
    "import pandas as pd\n",
    "import quandl, math, datetime\n",
    "import numpy as np\n",
    "from sklearn import preprocessing, model_selection, svm\n",
    "from sklearn.linear_model import LinearRegression\n",
    "from sklearn.model_selection import train_test_split\n",
    "import matplotlib.pyplot as plt\n",
    "from matplotlib import style\n",
    "import pickle"
   ]
  },
  {
   "cell_type": "code",
   "execution_count": 2,
   "metadata": {},
   "outputs": [],
   "source": [
    "style.use('ggplot')"
   ]
  },
  {
   "cell_type": "markdown",
   "metadata": {},
   "source": [
    "**Make sure to insert API key below! You can get one by creating an account on www.quandl.com**\n",
    "\n",
    "*If you upload your Notebook to any public place make sure you **delete** your API key!!!*"
   ]
  },
  {
   "cell_type": "code",
   "execution_count": 3,
   "metadata": {},
   "outputs": [],
   "source": [
    "quandl.ApiConfig.api_key = \"bsPqzouaLS1qBLUMqk2M\"\n",
    "df = quandl.get('WIKI/GOOGL') #quandl.get returns a dataframe!"
   ]
  },
  {
   "cell_type": "code",
   "execution_count": 4,
   "metadata": {},
   "outputs": [
    {
     "name": "stdout",
     "output_type": "stream",
     "text": [
      "                Open     High      Low     Close      Volume  Ex-Dividend  \\\n",
      "Date                                                                        \n",
      "2004-08-19   100.010   104.06    95.96   100.335  44659000.0          0.0   \n",
      "2004-08-20   101.010   109.08   100.50   108.310  22834300.0          0.0   \n",
      "2004-08-23   110.760   113.48   109.05   109.400  18256100.0          0.0   \n",
      "2004-08-24   111.240   111.60   103.57   104.870  15247300.0          0.0   \n",
      "2004-08-25   104.760   108.00   103.88   106.000   9188600.0          0.0   \n",
      "2004-08-26   104.950   107.95   104.66   107.910   7094800.0          0.0   \n",
      "2004-08-27   108.100   108.62   105.69   106.150   6211700.0          0.0   \n",
      "2004-08-30   105.280   105.49   102.01   102.010   5196700.0          0.0   \n",
      "2004-08-31   102.320   103.71   102.16   102.370   4917800.0          0.0   \n",
      "2004-09-01   102.700   102.97    99.67   100.250   9138200.0          0.0   \n",
      "2004-09-02    99.090   102.37    98.94   101.510  15118600.0          0.0   \n",
      "2004-09-03   100.950   101.74    99.32   100.010   5152400.0          0.0   \n",
      "2004-09-07   101.010   102.00    99.61   101.580   5847500.0          0.0   \n",
      "2004-09-08   100.740   103.03   100.50   102.300   4985600.0          0.0   \n",
      "2004-09-09   102.500   102.71   101.00   102.310   4061700.0          0.0   \n",
      "2004-09-10   101.470   106.56   101.30   105.330   8698800.0          0.0   \n",
      "2004-09-13   106.630   108.41   106.46   107.500   7844100.0          0.0   \n",
      "2004-09-14   107.440   112.00   106.79   111.490  10828900.0          0.0   \n",
      "2004-09-15   110.560   114.23   110.20   112.000  10713000.0          0.0   \n",
      "2004-09-16   112.340   115.80   111.65   113.970   9266300.0          0.0   \n",
      "2004-09-17   114.420   117.49   113.55   117.490   9472500.0          0.0   \n",
      "2004-09-20   116.950   121.60   116.77   119.360  10628700.0          0.0   \n",
      "2004-09-21   120.200   120.42   117.51   117.840   7228700.0          0.0   \n",
      "2004-09-22   117.450   119.67   116.81   118.380   7581200.0          0.0   \n",
      "2004-09-23   118.840   122.63   117.02   120.820   8535600.0          0.0   \n",
      "2004-09-24   120.970   124.10   119.76   119.830   9123400.0          0.0   \n",
      "2004-09-27   119.560   120.88   117.80   118.260   7066100.0          0.0   \n",
      "2004-09-28   121.150   127.40   120.21   126.860  16929000.0          0.0   \n",
      "2004-09-29   126.530   135.02   126.23   131.080  30516400.0          0.0   \n",
      "2004-09-30   129.899   132.30   129.00   129.600  13758000.0          0.0   \n",
      "...              ...      ...      ...       ...         ...          ...   \n",
      "2018-02-13  1050.000  1061.22  1046.92  1054.140   1574121.0          0.0   \n",
      "2018-02-14  1054.320  1075.47  1049.80  1072.700   2029979.0          0.0   \n",
      "2018-02-15  1083.450  1094.10  1067.23  1091.360   1806206.0          0.0   \n",
      "2018-02-16  1093.380  1108.31  1091.55  1095.500   1971928.0          0.0   \n",
      "2018-02-20  1092.760  1116.29  1090.00  1103.590   1646405.0          0.0   \n",
      "2018-02-21  1109.100  1136.20  1107.51  1113.750   2024534.0          0.0   \n",
      "2018-02-22  1119.170  1125.46  1105.15  1109.900   1386115.0          0.0   \n",
      "2018-02-23  1118.660  1129.00  1108.44  1128.090   1234539.0          0.0   \n",
      "2018-02-26  1131.860  1144.20  1129.34  1143.700   1489118.0          0.0   \n",
      "2018-02-27  1143.700  1144.25  1116.79  1117.510   2094863.0          0.0   \n",
      "2018-02-28  1122.000  1127.65  1103.00  1103.920   2431023.0          0.0   \n",
      "2018-03-01  1109.540  1111.27  1067.29  1071.410   2766856.0          0.0   \n",
      "2018-03-02  1057.980  1086.89  1050.11  1084.140   2508145.0          0.0   \n",
      "2018-03-05  1078.130  1101.18  1072.27  1094.760   1432369.0          0.0   \n",
      "2018-03-06  1102.100  1105.63  1094.50  1100.900   1169068.0          0.0   \n",
      "2018-03-07  1092.820  1116.20  1089.91  1115.040   1537429.0          0.0   \n",
      "2018-03-08  1117.200  1131.44  1117.20  1129.380   1510478.0          0.0   \n",
      "2018-03-09  1139.500  1161.00  1134.29  1160.840   2070174.0          0.0   \n",
      "2018-03-12  1165.050  1178.16  1159.20  1165.930   2129297.0          0.0   \n",
      "2018-03-13  1171.830  1178.00  1134.57  1139.910   2129435.0          0.0   \n",
      "2018-03-14  1145.800  1159.76  1142.35  1148.890   2033697.0          0.0   \n",
      "2018-03-15  1149.570  1162.50  1135.66  1150.610   1623868.0          0.0   \n",
      "2018-03-16  1155.350  1156.81  1131.36  1134.420   2654602.0          0.0   \n",
      "2018-03-19  1117.760  1119.37  1088.92  1100.070   3076349.0          0.0   \n",
      "2018-03-20  1098.400  1105.55  1082.42  1095.800   2709310.0          0.0   \n",
      "2018-03-21  1092.570  1108.70  1087.21  1094.000   1990515.0          0.0   \n",
      "2018-03-22  1080.010  1083.92  1049.64  1053.150   3418154.0          0.0   \n",
      "2018-03-23  1051.370  1066.78  1024.87  1026.550   2413517.0          0.0   \n",
      "2018-03-26  1050.600  1059.27  1010.58  1054.090   3272409.0          0.0   \n",
      "2018-03-27  1063.900  1064.54   997.62  1006.940   2940957.0          0.0   \n",
      "\n",
      "            Split Ratio    Adj. Open    Adj. High     Adj. Low   Adj. Close  \\\n",
      "Date                                                                          \n",
      "2004-08-19          1.0    50.159839    52.191109    48.128568    50.322842   \n",
      "2004-08-20          1.0    50.661387    54.708881    50.405597    54.322689   \n",
      "2004-08-23          1.0    55.551482    56.915693    54.693835    54.869377   \n",
      "2004-08-24          1.0    55.792225    55.972783    51.945350    52.597363   \n",
      "2004-08-25          1.0    52.542193    54.167209    52.100830    53.164113   \n",
      "2004-08-26          1.0    52.637487    54.142132    52.492038    54.122070   \n",
      "2004-08-27          1.0    54.217364    54.478169    53.008633    53.239345   \n",
      "2004-08-30          1.0    52.802998    52.908323    51.162935    51.162935   \n",
      "2004-08-31          1.0    51.318415    52.015567    51.238167    51.343492   \n",
      "2004-09-01          1.0    51.509003    51.644421    49.989312    50.280210   \n",
      "2004-09-02          1.0    49.698414    51.343492    49.623182    50.912161   \n",
      "2004-09-03          1.0    50.631294    51.027517    49.813770    50.159839   \n",
      "2004-09-07          1.0    50.661387    51.157920    49.959219    50.947269   \n",
      "2004-09-08          1.0    50.525969    51.674514    50.405597    51.308384   \n",
      "2004-09-09          1.0    51.408694    51.514019    50.656371    51.313400   \n",
      "2004-09-10          1.0    50.892099    53.444980    50.806836    52.828075   \n",
      "2004-09-13          1.0    53.480088    54.372844    53.394825    53.916435   \n",
      "2004-09-14          1.0    53.886342    56.173402    53.560336    55.917612   \n",
      "2004-09-15          1.0    55.451172    57.291854    55.270615    56.173402   \n",
      "2004-09-16          1.0    56.343928    58.079285    55.997860    57.161452   \n",
      "2004-09-17          1.0    57.387149    58.926902    56.950802    58.926902   \n",
      "2004-09-20          1.0    58.656066    60.988265    58.565787    59.864797   \n",
      "2004-09-21          1.0    60.286097    60.396438    58.936933    59.102444   \n",
      "2004-09-22          1.0    58.906840    60.020277    58.585849    59.373280   \n",
      "2004-09-23          1.0    59.603992    61.504860    58.691174    60.597057   \n",
      "2004-09-24          1.0    60.672290    62.242136    60.065416    60.100525   \n",
      "2004-09-27          1.0    59.965107    60.627150    59.082382    59.313094   \n",
      "2004-09-28          1.0    60.762568    63.897245    60.291113    63.626409   \n",
      "2004-09-29          1.0    63.460898    67.719042    63.310433    65.742942   \n",
      "2004-09-30          1.0    65.150614    66.354831    64.699722    65.000651   \n",
      "...                 ...          ...          ...          ...          ...   \n",
      "2018-02-13          1.0  1050.000000  1061.220000  1046.920000  1054.140000   \n",
      "2018-02-14          1.0  1054.320000  1075.470000  1049.800000  1072.700000   \n",
      "2018-02-15          1.0  1083.450000  1094.100000  1067.230000  1091.360000   \n",
      "2018-02-16          1.0  1093.380000  1108.310000  1091.550000  1095.500000   \n",
      "2018-02-20          1.0  1092.760000  1116.290000  1090.000000  1103.590000   \n",
      "2018-02-21          1.0  1109.100000  1136.200000  1107.510000  1113.750000   \n",
      "2018-02-22          1.0  1119.170000  1125.460000  1105.150000  1109.900000   \n",
      "2018-02-23          1.0  1118.660000  1129.000000  1108.440000  1128.090000   \n",
      "2018-02-26          1.0  1131.860000  1144.200000  1129.340000  1143.700000   \n",
      "2018-02-27          1.0  1143.700000  1144.250000  1116.790000  1117.510000   \n",
      "2018-02-28          1.0  1122.000000  1127.650000  1103.000000  1103.920000   \n",
      "2018-03-01          1.0  1109.540000  1111.270000  1067.290000  1071.410000   \n",
      "2018-03-02          1.0  1057.980000  1086.890000  1050.110000  1084.140000   \n",
      "2018-03-05          1.0  1078.130000  1101.180000  1072.270000  1094.760000   \n",
      "2018-03-06          1.0  1102.100000  1105.630000  1094.500000  1100.900000   \n",
      "2018-03-07          1.0  1092.820000  1116.200000  1089.910000  1115.040000   \n",
      "2018-03-08          1.0  1117.200000  1131.440000  1117.200000  1129.380000   \n",
      "2018-03-09          1.0  1139.500000  1161.000000  1134.290000  1160.840000   \n",
      "2018-03-12          1.0  1165.050000  1178.160000  1159.200000  1165.930000   \n",
      "2018-03-13          1.0  1171.830000  1178.000000  1134.570000  1139.910000   \n",
      "2018-03-14          1.0  1145.800000  1159.760000  1142.350000  1148.890000   \n",
      "2018-03-15          1.0  1149.570000  1162.500000  1135.660000  1150.610000   \n",
      "2018-03-16          1.0  1155.350000  1156.810000  1131.360000  1134.420000   \n",
      "2018-03-19          1.0  1117.760000  1119.370000  1088.920000  1100.070000   \n",
      "2018-03-20          1.0  1098.400000  1105.550000  1082.420000  1095.800000   \n",
      "2018-03-21          1.0  1092.570000  1108.700000  1087.210000  1094.000000   \n",
      "2018-03-22          1.0  1080.010000  1083.920000  1049.640000  1053.150000   \n",
      "2018-03-23          1.0  1051.370000  1066.780000  1024.870000  1026.550000   \n",
      "2018-03-26          1.0  1050.600000  1059.270000  1010.580000  1054.090000   \n",
      "2018-03-27          1.0  1063.900000  1064.540000   997.620000  1006.940000   \n",
      "\n",
      "            Adj. Volume  \n",
      "Date                     \n",
      "2004-08-19   44659000.0  \n",
      "2004-08-20   22834300.0  \n",
      "2004-08-23   18256100.0  \n",
      "2004-08-24   15247300.0  \n",
      "2004-08-25    9188600.0  \n",
      "2004-08-26    7094800.0  \n",
      "2004-08-27    6211700.0  \n",
      "2004-08-30    5196700.0  \n",
      "2004-08-31    4917800.0  \n",
      "2004-09-01    9138200.0  \n",
      "2004-09-02   15118600.0  \n",
      "2004-09-03    5152400.0  \n",
      "2004-09-07    5847500.0  \n",
      "2004-09-08    4985600.0  \n",
      "2004-09-09    4061700.0  \n",
      "2004-09-10    8698800.0  \n",
      "2004-09-13    7844100.0  \n",
      "2004-09-14   10828900.0  \n",
      "2004-09-15   10713000.0  \n",
      "2004-09-16    9266300.0  \n",
      "2004-09-17    9472500.0  \n",
      "2004-09-20   10628700.0  \n",
      "2004-09-21    7228700.0  \n",
      "2004-09-22    7581200.0  \n",
      "2004-09-23    8535600.0  \n",
      "2004-09-24    9123400.0  \n",
      "2004-09-27    7066100.0  \n",
      "2004-09-28   16929000.0  \n",
      "2004-09-29   30516400.0  \n",
      "2004-09-30   13758000.0  \n",
      "...                 ...  \n",
      "2018-02-13    1574121.0  \n",
      "2018-02-14    2029979.0  \n",
      "2018-02-15    1806206.0  \n",
      "2018-02-16    1971928.0  \n",
      "2018-02-20    1646405.0  \n",
      "2018-02-21    2024534.0  \n",
      "2018-02-22    1386115.0  \n",
      "2018-02-23    1234539.0  \n",
      "2018-02-26    1489118.0  \n",
      "2018-02-27    2094863.0  \n",
      "2018-02-28    2431023.0  \n",
      "2018-03-01    2766856.0  \n",
      "2018-03-02    2508145.0  \n",
      "2018-03-05    1432369.0  \n",
      "2018-03-06    1169068.0  \n",
      "2018-03-07    1537429.0  \n",
      "2018-03-08    1510478.0  \n",
      "2018-03-09    2070174.0  \n",
      "2018-03-12    2129297.0  \n",
      "2018-03-13    2129435.0  \n",
      "2018-03-14    2033697.0  \n",
      "2018-03-15    1623868.0  \n",
      "2018-03-16    2654602.0  \n",
      "2018-03-19    3076349.0  \n",
      "2018-03-20    2709310.0  \n",
      "2018-03-21    1990515.0  \n",
      "2018-03-22    3418154.0  \n",
      "2018-03-23    2413517.0  \n",
      "2018-03-26    3272409.0  \n",
      "2018-03-27    2940957.0  \n",
      "\n",
      "[3424 rows x 12 columns]\n"
     ]
    }
   ],
   "source": [
    "#%%capture #suppress output\n",
    "print(df)"
   ]
  },
  {
   "cell_type": "markdown",
   "metadata": {},
   "source": [
    "**Difference between \"Adj. High\" and \"Adj. Low\" (margin) for instance tells us something about the volatility**\n",
    "\n",
    "**Difference between \"Adj. Open\" and \"Adj. Close\" tells us by how much the price changed during the day**\n",
    "\n",
    "--> Valuable relationship - however **linear regression** is not going to seek out this.\n",
    "\n",
    "-----\n",
    "\n",
    "What we need to do is to define special relationships and then define those as our features rather than using redundant prices that do not give us anything useful."
   ]
  },
  {
   "cell_type": "code",
   "execution_count": 5,
   "metadata": {},
   "outputs": [],
   "source": [
    "df = df[['Adj. Open','Adj. High','Adj. Low','Adj. Close','Adj. Volume',]]"
   ]
  },
  {
   "cell_type": "markdown",
   "metadata": {},
   "source": [
    "**Define new column for the high minus low - something like the percent volatility.**"
   ]
  },
  {
   "cell_type": "code",
   "execution_count": 6,
   "metadata": {},
   "outputs": [],
   "source": [
    "df['HL_PCT'] = (df['Adj. High'] - df['Adj. Low']) / df['Adj. Low'] * 100.0"
   ]
  },
  {
   "cell_type": "markdown",
   "metadata": {},
   "source": [
    "**Does not matter if times 100 or not - classifier does not really care (as long as it is normalized)!**\n",
    "\n",
    "------\n",
    "\n",
    "**Now let's define the daily change.**"
   ]
  },
  {
   "cell_type": "code",
   "execution_count": 7,
   "metadata": {},
   "outputs": [],
   "source": [
    "df['PCT_change'] = (df['Adj. Close'] - df['Adj. Open']) / df['Adj. Open'] * 100.0"
   ]
  },
  {
   "cell_type": "markdown",
   "metadata": {},
   "source": [
    "**Now we define columns we really care about**"
   ]
  },
  {
   "cell_type": "code",
   "execution_count": 8,
   "metadata": {},
   "outputs": [],
   "source": [
    "df = df[['Adj. Close','HL_PCT','PCT_change','Adj. Volume']]"
   ]
  },
  {
   "cell_type": "code",
   "execution_count": 9,
   "metadata": {},
   "outputs": [
    {
     "name": "stdout",
     "output_type": "stream",
     "text": [
      "            Adj. Close    HL_PCT  PCT_change  Adj. Volume\n",
      "Date                                                     \n",
      "2004-08-19   50.322842  8.441017    0.324968   44659000.0\n",
      "2004-08-20   54.322689  8.537313    7.227007   22834300.0\n",
      "2004-08-23   54.869377  4.062357   -1.227880   18256100.0\n",
      "2004-08-24   52.597363  7.753210   -5.726357   15247300.0\n",
      "2004-08-25   53.164113  3.966115    1.183658    9188600.0\n"
     ]
    }
   ],
   "source": [
    "print(df.head()) # Dataframe.head(n=5) - this method is used to return top n (5 by default) rows of df or series"
   ]
  },
  {
   "cell_type": "markdown",
   "metadata": {},
   "source": [
    "**\"Adj. Close\" highly dependent on \"HL_PCT\" and \"PCT_change\" which would be a highly biased classifier - so predicting with \"Adj. Close\" would not really make sense. But what we will do here is to take the last let's say 10 values of \"Adj. Close\" and define that as a feature trying to predict the future value.**"
   ]
  },
  {
   "cell_type": "markdown",
   "metadata": {},
   "source": [
    "------\n",
    "\n",
    "#2 - Regression Features and Labels\n",
    "======"
   ]
  },
  {
   "cell_type": "code",
   "execution_count": 10,
   "metadata": {},
   "outputs": [],
   "source": [
    "forecast_col = 'Adj. Close'"
   ]
  },
  {
   "cell_type": "markdown",
   "metadata": {},
   "source": [
    "**In order to replace NaN data you have to put something back in. Usually deleting columns is not a good idea!**\n",
    "**We usually miss data in the real world and want to avoid deleting a whole column!**"
   ]
  },
  {
   "cell_type": "code",
   "execution_count": 11,
   "metadata": {},
   "outputs": [],
   "source": [
    "df.fillna(-99999, inplace=True)"
   ]
  },
  {
   "cell_type": "markdown",
   "metadata": {},
   "source": [
    "**In pandas, when the data in a column/row is not available, it's labelled NaN(not a number). dropna() removes these \"cells\" and \"inplace=True\" means change it in the dataset and not just the copy of the dataset.**"
   ]
  },
  {
   "cell_type": "code",
   "execution_count": 12,
   "metadata": {},
   "outputs": [],
   "source": [
    "forecast_out = int(math.ceil(0.01*len(df))) # round everything up to the nearest whole / do not forget to import math"
   ]
  },
  {
   "cell_type": "markdown",
   "metadata": {},
   "source": [
    "**We are taking 0.01 or 1% of the length of all the rows within the dataframe. Each row in the dataFrame is representative of a day in the life of the stock. So if the stock has been trading for 365 days, there will be 365 rows in the dataFrame. 1% of 365 is 3.65 days which is then rounded up by the math.ceil function to 4 days. The 4 days will be the \"forecast_out\" variable which is the variable that used to shift the \"Adj.Close\" price column in the dataFame up by 4. In other words, if you were standing at day 1 of the stock when it was first traded, the prediction or the \"label\" from his algorithm would tell you that at day 4, your stock will be valued at the amount of the close as taken on day 4 from actual data. This isn't totally useful information since you can look at the Adj.Close column on day 4 to get back to the label info on day 1. This is really all done to build a training set so that the machine can learn from the trend.**\n",
    "\n",
    "\n",
    "----\n",
    "\n",
    "**We can also test later what the difference between \"Adj. Close\" and \"label\" is and when using 10% the difference is much bigger between those two than using 1%. I assume that this is just related to the fact that in a short amount of time the prices changed so drastically before they \"stabilized\" a bit later.**"
   ]
  },
  {
   "cell_type": "code",
   "execution_count": 13,
   "metadata": {},
   "outputs": [],
   "source": [
    "#print(forecast_out)"
   ]
  },
  {
   "cell_type": "markdown",
   "metadata": {},
   "source": [
    "**Now we are renaming the column so that if you would use this sheet as a template you do not have to adapt every single line seperately. We also shift the forecast column up. This way the label column for each row will be the \"Adj. Close\" price 10 days into the future**"
   ]
  },
  {
   "cell_type": "code",
   "execution_count": 14,
   "metadata": {},
   "outputs": [],
   "source": [
    "df['label'] = df[forecast_col].shift(-forecast_out)"
   ]
  },
  {
   "cell_type": "code",
   "execution_count": 15,
   "metadata": {},
   "outputs": [
    {
     "name": "stdout",
     "output_type": "stream",
     "text": [
      "            Adj. Close    HL_PCT  PCT_change  Adj. Volume      label\n",
      "Date                                                                \n",
      "2004-08-19   50.322842  8.441017    0.324968   44659000.0  69.078238\n",
      "2004-08-20   54.322689  8.537313    7.227007   22834300.0  67.839414\n",
      "2004-08-23   54.869377  4.062357   -1.227880   18256100.0  68.912727\n",
      "2004-08-24   52.597363  7.753210   -5.726357   15247300.0  70.668146\n",
      "2004-08-25   53.164113  3.966115    1.183658    9188600.0  71.219849\n"
     ]
    }
   ],
   "source": [
    "# print(df.head())\n",
    "#print(df.tail())\n",
    "print(df.head())"
   ]
  },
  {
   "cell_type": "markdown",
   "metadata": {},
   "source": [
    "**First we fill the NaN values with -99999, then after we shift the value, the tail end will have NaN values.\n",
    "Instead of Replacing them with -99999 we drop them. You might think why we did not drop them in the first place. Because In the dataset one or the other row had NaN so if it would be deleted, the dataset would have reduced drastically!!! But in the next we can drop them as only 33 rows will be droped. Why 33? Because it is 1% (0.01) of the hole data set. So the loss in Data was minimal.**"
   ]
  },
  {
   "cell_type": "markdown",
   "metadata": {},
   "source": [
    "------\n",
    "\n",
    "#3 - Training and Testing\n",
    "======"
   ]
  },
  {
   "cell_type": "markdown",
   "metadata": {},
   "source": [
    "**Features are everything except label column. df.drop returns a new dataframe which is being converted to a numpy array and saved to X (independent variables). Y is our dependent variable!**"
   ]
  },
  {
   "cell_type": "code",
   "execution_count": 16,
   "metadata": {},
   "outputs": [],
   "source": [
    "X = np.array(df.drop(['label'],1))"
   ]
  },
  {
   "cell_type": "markdown",
   "metadata": {},
   "source": [
    "**Before shooting through the classifier we have to scale X!**\n",
    "\n",
    "- **Scale if you want to optimize the accuracy of your model predictions.**\n",
    "- **Do not scale if you want to keep the most interpretation as possible in your model.**"
   ]
  },
  {
   "cell_type": "code",
   "execution_count": 17,
   "metadata": {},
   "outputs": [],
   "source": [
    "X = preprocessing.scale(X)"
   ]
  },
  {
   "cell_type": "code",
   "execution_count": 18,
   "metadata": {},
   "outputs": [],
   "source": [
    "X_lately = X[-forecast_out:] # that's what we predict against! Extracting last entry of X"
   ]
  },
  {
   "cell_type": "code",
   "execution_count": 19,
   "metadata": {},
   "outputs": [],
   "source": [
    "X = X[:-forecast_out:]"
   ]
  },
  {
   "cell_type": "code",
   "execution_count": 20,
   "metadata": {},
   "outputs": [],
   "source": [
    "df.dropna(inplace=True)"
   ]
  },
  {
   "cell_type": "code",
   "execution_count": 21,
   "metadata": {},
   "outputs": [],
   "source": [
    "y = np.array(df['label'])"
   ]
  },
  {
   "cell_type": "markdown",
   "metadata": {},
   "source": [
    "**What is the difference between the training set and the test set?**\n",
    "-----\n",
    "**The training set is a subset of your data on which your model will learn how to predict the dependent variable with the independent variables. The test set is the complimentary subset from the training set, on which you will evaluate your model to see if it manages to predict correctly the dependent variable with the independent variables.**\n",
    "\n",
    "\n",
    "-----\n",
    "\n",
    "- **Training Set:** *The sample of data used to fit the model*. The actual dataset that we use to train the model (weights and biases in the case of Neural Network). The model sees and learns from this data.\n",
    "----\n",
    "- **Validation Set:** *The sample of data used to provide an unbiased evaluation of a model fit on the training dataset while tuning model hyperparameters. The evaluation becomes more biased as skill on the validation dataset is incorporated into the model configuration*. The validation set is used to evaluate a given model, but this is for frequent evaluation.\n",
    "-----\n",
    "- **Test Set:** *The sample of data used to provide an unbiased evaluation of a final model fit on the training dataset.* The Test dataset provides the gold standard used to evaluate the model. It is only used once a model is completely trained (using the train and validation sets). The test set is generally what is used to evaluate competing models (For example on many Kaggle competitions, the validation set is released initially along with the training set and the actual test set is only released when the competition is about to close, and it is the result of the model on the Test set that decides the winner). Many a times the validation set is used as the test set, but it is not good practice. The test set is generally well curated. It contains carefully sampled data that spans the various classes that the model would face, when used in the real world."
   ]
  },
  {
   "cell_type": "code",
   "execution_count": 22,
   "metadata": {},
   "outputs": [],
   "source": [
    "X_train, X_test, y_train, y_test = train_test_split(X, y, test_size = 0.2) # deleted \"random_state = 0\""
   ]
  },
  {
   "cell_type": "markdown",
   "metadata": {},
   "source": [
    "**Define the regressor now!**"
   ]
  },
  {
   "cell_type": "code",
   "execution_count": 23,
   "metadata": {},
   "outputs": [],
   "source": [
    "#clf = LinearRegression()"
   ]
  },
  {
   "cell_type": "code",
   "execution_count": 24,
   "metadata": {},
   "outputs": [],
   "source": [
    "# clf = svm.SVR() # performs a lot worse than Linear Regression!"
   ]
  },
  {
   "cell_type": "code",
   "execution_count": 25,
   "metadata": {},
   "outputs": [],
   "source": [
    "#clf.fit(X_train, y_train) # training step"
   ]
  },
  {
   "cell_type": "markdown",
   "metadata": {},
   "source": [
    "**By creating a so called pickle we do not have to always train our classifier which is kind of useless in this case but sometimes the training can take up Gigabytes which would be an inefficient task to do thus the pickle trick.**"
   ]
  },
  {
   "cell_type": "code",
   "execution_count": 26,
   "metadata": {},
   "outputs": [],
   "source": [
    "#with open('linearregression.pickle', 'wb') as f: # with \"with open...\" the close() function will be autom. called\n",
    " #   pickle.dump(clf, f)"
   ]
  },
  {
   "cell_type": "code",
   "execution_count": 27,
   "metadata": {},
   "outputs": [],
   "source": [
    "pickle_in = open('linearregression.pickle', 'rb')"
   ]
  },
  {
   "cell_type": "markdown",
   "metadata": {},
   "source": [
    "**Once run you can comment out:**\n",
    "\n",
    "- clf = LinearRegression()\n",
    "\n",
    "- clf.fit(X_train, y_train)\n",
    "\n",
    "- with open('linearregression.pickle', 'wb') as f:\n",
    "    pickle.dump(clf, f)"
   ]
  },
  {
   "cell_type": "code",
   "execution_count": 28,
   "metadata": {},
   "outputs": [],
   "source": [
    "clf = pickle.load(pickle_in) "
   ]
  },
  {
   "cell_type": "code",
   "execution_count": 29,
   "metadata": {},
   "outputs": [],
   "source": [
    "accuracy = clf.score(X_test, y_test)"
   ]
  },
  {
   "cell_type": "code",
   "execution_count": 30,
   "metadata": {},
   "outputs": [
    {
     "name": "stdout",
     "output_type": "stream",
     "text": [
      "0.97703396571\n"
     ]
    }
   ],
   "source": [
    "print(accuracy) # this is the squared error!"
   ]
  },
  {
   "cell_type": "markdown",
   "metadata": {},
   "source": [
    "------\n",
    "\n",
    "#4 - Forecasting and Predicting\n",
    "======"
   ]
  },
  {
   "cell_type": "code",
   "execution_count": 31,
   "metadata": {},
   "outputs": [],
   "source": [
    "forecast_set = clf.predict(X_lately)"
   ]
  },
  {
   "cell_type": "code",
   "execution_count": 32,
   "metadata": {},
   "outputs": [
    {
     "name": "stdout",
     "output_type": "stream",
     "text": [
      "[ 1097.3585024   1070.74036716  1016.2129631   1055.45226624  1071.68416056\n",
      "  1072.47341686  1089.78880161  1108.40689682  1113.76956196  1120.96217446\n",
      "  1130.75596015  1127.89455085  1146.50393287  1162.91346796  1134.28465635\n",
      "  1120.89387017  1085.2099126   1099.85734743  1111.83153911  1120.10875412\n",
      "  1132.69304114  1148.53948905  1178.73386253  1184.53807383  1154.93392242\n",
      "  1167.57687008  1168.27656636  1151.50875155  1116.06467225  1112.96968501\n",
      "  1111.64807517  1067.90882966  1040.32166404  1067.24158995  1016.41100922] 0.97703396571 35\n"
     ]
    }
   ],
   "source": [
    "print(forecast_set, accuracy, forecast_out) # forecast_out shows us the next 35 days of prices"
   ]
  },
  {
   "cell_type": "markdown",
   "metadata": {},
   "source": [
    "**Date is not a feature so we have to do some work to get something we can actually plot.**"
   ]
  },
  {
   "cell_type": "code",
   "execution_count": 33,
   "metadata": {},
   "outputs": [],
   "source": [
    "df['Forecast'] = np.nan"
   ]
  },
  {
   "cell_type": "markdown",
   "metadata": {},
   "source": [
    "**\".iloc\" works based on integer positioning. So no matter what our row labels are, we can always, e.g., get the first row by doing df.iloc[0]**\n",
    "\n",
    "-----\n",
    "\n",
    "**.loc selects data only by labels!** --> Good explanation here **https://stackoverflow.com/questions/31593201/how-are-pandas-iloc-ix-and-loc-different-and-related**"
   ]
  },
  {
   "cell_type": "code",
   "execution_count": 34,
   "metadata": {},
   "outputs": [],
   "source": [
    "last_date = df.iloc[-1].name"
   ]
  },
  {
   "cell_type": "code",
   "execution_count": 35,
   "metadata": {},
   "outputs": [
    {
     "name": "stdout",
     "output_type": "stream",
     "text": [
      "2018-02-05 00:00:00\n"
     ]
    }
   ],
   "source": [
    "print(df.iloc[-1].name)"
   ]
  },
  {
   "cell_type": "code",
   "execution_count": 36,
   "metadata": {},
   "outputs": [],
   "source": [
    "last_unix = last_date.timestamp()"
   ]
  },
  {
   "cell_type": "code",
   "execution_count": 37,
   "metadata": {},
   "outputs": [],
   "source": [
    "one_day = 86400"
   ]
  },
  {
   "cell_type": "code",
   "execution_count": 38,
   "metadata": {},
   "outputs": [],
   "source": [
    "next_unix = last_unix + one_day"
   ]
  },
  {
   "cell_type": "code",
   "execution_count": 39,
   "metadata": {},
   "outputs": [],
   "source": [
    "for i in forecast_set:\n",
    "    next_date = datetime.datetime.fromtimestamp(next_unix)\n",
    "    next_unix += one_day\n",
    "    df.loc[next_date] = [np.nan for _ in range (len(df.columns)-1)] + [i]"
   ]
  },
  {
   "cell_type": "markdown",
   "metadata": {},
   "source": [
    "**To see what this for loop does simply print the tail to get a rough idea**"
   ]
  },
  {
   "cell_type": "code",
   "execution_count": 40,
   "metadata": {},
   "outputs": [
    {
     "name": "stdout",
     "output_type": "stream",
     "text": [
      "            Adj. Close  HL_PCT  PCT_change  Adj. Volume  label     Forecast\n",
      "Date                                                                       \n",
      "2018-03-08         NaN     NaN         NaN          NaN    NaN  1111.648075\n",
      "2018-03-09         NaN     NaN         NaN          NaN    NaN  1067.908830\n",
      "2018-03-10         NaN     NaN         NaN          NaN    NaN  1040.321664\n",
      "2018-03-11         NaN     NaN         NaN          NaN    NaN  1067.241590\n",
      "2018-03-12         NaN     NaN         NaN          NaN    NaN  1016.411009\n"
     ]
    }
   ],
   "source": [
    "print(df.tail())"
   ]
  },
  {
   "cell_type": "code",
   "execution_count": 41,
   "metadata": {
    "scrolled": true
   },
   "outputs": [
    {
     "data": {
      "text/plain": [
       "<function matplotlib.pyplot.show>"
      ]
     },
     "execution_count": 41,
     "metadata": {},
     "output_type": "execute_result"
    },
    {
     "data": {
      "image/png": "[encoded data removed]",
      "text/plain": [
       "<matplotlib.figure.Figure at 0x11a31d358>"
      ]
     },
     "metadata": {},
     "output_type": "display_data"
    }
   ],
   "source": [
    "df['Adj. Close'].plot()\n",
    "df['Forecast'].plot()\n",
    "plt.legend(loc=0)\n",
    "plt.xlabel('Date')\n",
    "plt.ylabel('Price')\n",
    "plt.show"
   ]
  },
  {
   "cell_type": "markdown",
   "metadata": {},
   "source": [
    "------\n",
    "\n",
    "#5 - Pickling and Scaling\n",
    "======\n",
    "\n",
    "- for that we imported **pickle** at the top"
   ]
  },
  {
   "cell_type": "markdown",
   "metadata": {},
   "source": [
    "------\n",
    "\n",
    "#6 - How Regression works\n",
    "======\n",
    "\n",
    "Please visit the following page for a rough explanation of regression."
   ]
  },
  {
   "cell_type": "markdown",
   "metadata": {},
   "source": [
    "------\n",
    "\n",
    "#7 - How to program Best Fit Slope\n",
    "======"
   ]
  }
 ],
 "metadata": {
  "kernelspec": {
   "display_name": "Python 3",
   "language": "python",
   "name": "python3"
  },
  "language_info": {
   "codemirror_mode": {
    "name": "ipython",
    "version": 3
   },
   "file_extension": ".py",
   "mimetype": "text/x-python",
   "name": "python",
   "nbconvert_exporter": "python",
   "pygments_lexer": "ipython3",
   "version": "3.6.6"
  }
 },
 "nbformat": 4,
 "nbformat_minor": 2
}
