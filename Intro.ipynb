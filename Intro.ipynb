{
 "cells": [
  {
   "cell_type": "markdown",
   "metadata": {},
   "source": [
    "Programming Tips\n",
    "===================\n",
    "\n",
    "\n",
    "-----\n",
    "\n",
    "Tip #1 - Focus on Basics\n",
    "------\n",
    "Stop wasting too much time on Basics and make sure you do read about the basics and then continue to download code examples that are appealing to you, skim through the code and try to understand it as much as you can. Adaptions can be made to see how far you can come!"
   ]
  },
  {
   "cell_type": "markdown",
   "metadata": {},
   "source": [
    "Tip #2 - Commenting Code\n",
    "------\n",
    "I know a lot of people do not do it and some see this as a useless thing to do - however I always comment my code as much as I can if the logic is not super trivial for other readers."
   ]
  },
  {
   "cell_type": "markdown",
   "metadata": {},
   "source": [
    "Tip #3 - Train every day\n",
    "------\n",
    "It is crucial to program every day even if it is just 1 hour per day!"
   ]
  },
  {
   "cell_type": "markdown",
   "metadata": {},
   "source": [
    "Tip #4 - Do not let the hurdles discourage you!\n",
    "------\n",
    "\n",
    "One thing I also struggled with is perfectionism. It is not doing you any good especially in programming where you want to have the \"perfect\" start or wait for a \"better\" idea. Draft & Optimize! A good and funny video from Jarvis can be found here:\n",
    "\n",
    "YouTubeVideo('YV8DldSzZvQ')"
   ]
  },
  {
   "cell_type": "markdown",
   "metadata": {},
   "source": [
    "Tip #5 - Do not Copy & Paste\n",
    "------\n",
    "\n",
    "I think this point is pretty self-explaining. You remember the most when you write it with your own hands otherwise it is just cheating yourself."
   ]
  },
  {
   "cell_type": "code",
   "execution_count": null,
   "metadata": {
    "collapsed": true
   },
   "outputs": [],
   "source": []
  }
 ],
 "metadata": {
  "kernelspec": {
   "display_name": "Python 3",
   "language": "python",
   "name": "python3"
  },
  "language_info": {
   "codemirror_mode": {
    "name": "ipython",
    "version": 3
   },
   "file_extension": ".py",
   "mimetype": "text/x-python",
   "name": "python",
   "nbconvert_exporter": "python",
   "pygments_lexer": "ipython3",
   "version": "3.6.7"
  }
 },
 "nbformat": 4,
 "nbformat_minor": 2
}
