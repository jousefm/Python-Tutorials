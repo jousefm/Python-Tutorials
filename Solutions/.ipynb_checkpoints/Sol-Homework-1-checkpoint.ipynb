{
 "cells": [
  {
   "cell_type": "markdown",
   "metadata": {},
   "source": [
    "Python - Introduction\n",
    "===================\n",
    "\n",
    "\n",
    "**by Jousef Murad** - if you have any questions or feedback feel free to message me.\n",
    "\n",
    "-----\n",
    "\n",
    "**Hints**\n",
    "\n",
    "- With the `help(expression)`you can easily see information about a specific expression\n",
    "- The cells indicated with `In []:` can be used to type commands inside - to execute a cell you execute `CTRL+ENTER`. Holding `SHIFT+ENTER` the code will be executed and the next cell will be selected."
   ]
  },
  {
   "cell_type": "code",
   "execution_count": 1,
   "metadata": {},
   "outputs": [
    {
     "name": "stdout",
     "output_type": "stream",
     "text": [
      "Hello Mars\n"
     ]
    }
   ],
   "source": [
    "print(\"Hello Mars\")"
   ]
  },
  {
   "cell_type": "markdown",
   "metadata": {},
   "source": [
    "- It is possible to write more than one line into a cell and execute a batch of code"
   ]
  },
  {
   "cell_type": "code",
   "execution_count": 2,
   "metadata": {},
   "outputs": [
    {
     "data": {
      "text/plain": [
       "105"
      ]
     },
     "execution_count": 2,
     "metadata": {},
     "output_type": "execute_result"
    }
   ],
   "source": [
    "a = 5\n",
    "b = 100\n",
    "a + b"
   ]
  },
  {
   "cell_type": "markdown",
   "metadata": {},
   "source": [
    "-------"
   ]
  },
  {
   "cell_type": "markdown",
   "metadata": {},
   "source": [
    "Exercise 1 - Arithmetic Operators and Expressions\n",
    "===================\n",
    "\n",
    "**(a)** Compare the output between `1.0 + 1e-16 + 1e-16` and `1e-16 + 1e-16 + 1.0`"
   ]
  },
  {
   "cell_type": "code",
   "execution_count": 4,
   "metadata": {},
   "outputs": [
    {
     "data": {
      "text/plain": [
       "1.0"
      ]
     },
     "execution_count": 4,
     "metadata": {},
     "output_type": "execute_result"
    }
   ],
   "source": [
    "1.0 + 1e-16 + 1e-16"
   ]
  },
  {
   "cell_type": "code",
   "execution_count": 6,
   "metadata": {},
   "outputs": [
    {
     "data": {
      "text/plain": [
       "1.0000000000000002"
      ]
     },
     "execution_count": 6,
     "metadata": {},
     "output_type": "execute_result"
    }
   ],
   "source": [
    "1e-16 + 1e-16 + 1.0"
   ]
  },
  {
   "cell_type": "markdown",
   "metadata": {},
   "source": [
    "What can you conclude from the order of evaluation?\n",
    "\n",
    "------\n",
    "\n",
    "<font color=\"DodgerBlue\">Sums are calculated from left to right. How do we know that? The first representable number bigger than $1.0$ is $1.0+\\epsilon$. In this case $\\epsilon \\approx 2.2\\cdot 10^{-16}$ is the relative machine precision. Adding a smaller number than $\\epsilon/2$ to $1.0$, for instance $1.0\\cdot 10^{-16}$ causes the result to be rounded to $1.0$. For this reason the first addition $1.0 + 1.0\\cdot 10^{-16}$ becomes $1.0$ in the first example - same as the second one. In the second example the first addition yields $1.0\\cdot 10^{-16} + 1.0\\cdot 10^{-16}$ a number that is bigger than $\\epsilon/2$. For this reason the following addition with $1.0$ will be rounded to the next bigger number, namely $1.0+\\epsilon$.</font><br>"
   ]
  },
  {
   "cell_type": "markdown",
   "metadata": {},
   "source": [
    "**(b)** Given `7 * 2 ** 3 * 3 + 5 * 8 / 2 ** 2 - 32.1 // 8 + 10 % 3 * 2`\n",
    "\n",
    "What do the operators `+, -, *, /, //, %` and `**` mean and in which order are they applied?"
   ]
  },
  {
   "cell_type": "code",
   "execution_count": 8,
   "metadata": {},
   "outputs": [
    {
     "data": {
      "text/plain": [
       "176.0"
      ]
     },
     "execution_count": 8,
     "metadata": {},
     "output_type": "execute_result"
    }
   ],
   "source": [
    "7 * 2 ** 3 * 3 + 5 * 8 / 2 ** 2 - 32.1 // 8 + 10 % 3 * 2"
   ]
  },
  {
   "cell_type": "markdown",
   "metadata": {},
   "source": [
    "<font color=\"DodgerBlue\">\n",
    "\n",
    "`+`       | `-`         | `*`            | `/`      | `//`           | `%`     | `**`\n",
    ":-------: | :---------: | :------------: | :------: | :------------: | :-----: | :----------:\n",
    "Addition  | Subtraction | Multiplication | Division | Floor Division | Modulo  | Exponentiate\n",
    "\n",
    "Hint: Floor Division means division with rounding (round down).\n",
    "Order: Brackets before exponentiate before multiplication before subtraction/addition where the modulo operator counts as a multiplication/division operation.\n",
    "</font><br>\n",
    "\n",
    "--------------\n",
    "\n",
    "Put brackets around the expression so that the order of operations becomes clear."
   ]
  },
  {
   "cell_type": "code",
   "execution_count": 9,
   "metadata": {},
   "outputs": [
    {
     "data": {
      "text/plain": [
       "176.0"
      ]
     },
     "execution_count": 9,
     "metadata": {},
     "output_type": "execute_result"
    }
   ],
   "source": [
    "((7 * (2 ** 3)) * 3) + ((5 * 8) / (2 ** 2)) - (32.1 // 8) + ((10 % 3) * 2)"
   ]
  },
  {
   "cell_type": "markdown",
   "metadata": {},
   "source": [
    "----------------\n",
    "\n",
    "Exercise 2 - Data Types\n",
    "===================\n",
    "\n",
    "**(a)** Every instance `inst` holds a data type, which can be investigated with `type(inst)`. Example: `type(1)`will generate the output `<class 'int'>`\n",
    "\n",
    "**(i)** Have a look at the output for `type`for the parameters `2.0, 1+3, 1+3.0, \"1\", True, [1,2,3], {1:100, 2:200}, {1,2,3}` as well as `print`"
   ]
  },
  {
   "cell_type": "code",
   "execution_count": 10,
   "metadata": {},
   "outputs": [
    {
     "data": {
      "text/plain": [
       "float"
      ]
     },
     "execution_count": 10,
     "metadata": {},
     "output_type": "execute_result"
    }
   ],
   "source": [
    "type(1.0)"
   ]
  },
  {
   "cell_type": "code",
   "execution_count": 12,
   "metadata": {},
   "outputs": [
    {
     "data": {
      "text/plain": [
       "int"
      ]
     },
     "execution_count": 12,
     "metadata": {},
     "output_type": "execute_result"
    }
   ],
   "source": [
    "type(1+3)"
   ]
  },
  {
   "cell_type": "code",
   "execution_count": 13,
   "metadata": {},
   "outputs": [
    {
     "data": {
      "text/plain": [
       "float"
      ]
     },
     "execution_count": 13,
     "metadata": {},
     "output_type": "execute_result"
    }
   ],
   "source": [
    "type(1+3.0)"
   ]
  },
  {
   "cell_type": "code",
   "execution_count": 14,
   "metadata": {},
   "outputs": [
    {
     "data": {
      "text/plain": [
       "str"
      ]
     },
     "execution_count": 14,
     "metadata": {},
     "output_type": "execute_result"
    }
   ],
   "source": [
    "type(\"1\")"
   ]
  },
  {
   "cell_type": "code",
   "execution_count": 15,
   "metadata": {},
   "outputs": [
    {
     "data": {
      "text/plain": [
       "bool"
      ]
     },
     "execution_count": 15,
     "metadata": {},
     "output_type": "execute_result"
    }
   ],
   "source": [
    "type(True)"
   ]
  },
  {
   "cell_type": "code",
   "execution_count": 16,
   "metadata": {},
   "outputs": [
    {
     "data": {
      "text/plain": [
       "list"
      ]
     },
     "execution_count": 16,
     "metadata": {},
     "output_type": "execute_result"
    }
   ],
   "source": [
    "type([1,2,3])"
   ]
  },
  {
   "cell_type": "code",
   "execution_count": 17,
   "metadata": {},
   "outputs": [
    {
     "data": {
      "text/plain": [
       "dict"
      ]
     },
     "execution_count": 17,
     "metadata": {},
     "output_type": "execute_result"
    }
   ],
   "source": [
    "type({1:100,2:200})"
   ]
  },
  {
   "cell_type": "code",
   "execution_count": 18,
   "metadata": {},
   "outputs": [
    {
     "data": {
      "text/plain": [
       "set"
      ]
     },
     "execution_count": 18,
     "metadata": {},
     "output_type": "execute_result"
    }
   ],
   "source": [
    "type({1,2,3})"
   ]
  },
  {
   "cell_type": "code",
   "execution_count": 19,
   "metadata": {},
   "outputs": [
    {
     "data": {
      "text/plain": [
       "builtin_function_or_method"
      ]
     },
     "execution_count": 19,
     "metadata": {},
     "output_type": "execute_result"
    }
   ],
   "source": [
    "type(print)"
   ]
  },
  {
   "cell_type": "markdown",
   "metadata": {},
   "source": [
    "--------\n",
    "\n",
    "**(ii)** Interpret the different outputs: `1+5, 1+5.0, \"1\"+\"5\", 1+\"5\", 1+True` and `1+False`"
   ]
  },
  {
   "cell_type": "code",
   "execution_count": 20,
   "metadata": {},
   "outputs": [
    {
     "data": {
      "text/plain": [
       "6"
      ]
     },
     "execution_count": 20,
     "metadata": {},
     "output_type": "execute_result"
    }
   ],
   "source": [
    "1+5 # Addition of two integers yields an integer"
   ]
  },
  {
   "cell_type": "code",
   "execution_count": 21,
   "metadata": {},
   "outputs": [
    {
     "data": {
      "text/plain": [
       "6.0"
      ]
     },
     "execution_count": 21,
     "metadata": {},
     "output_type": "execute_result"
    }
   ],
   "source": [
    "1+5.0 # Addition of an integer and float yields a float"
   ]
  },
  {
   "cell_type": "code",
   "execution_count": 22,
   "metadata": {},
   "outputs": [
    {
     "data": {
      "text/plain": [
       "'15'"
      ]
     },
     "execution_count": 22,
     "metadata": {},
     "output_type": "execute_result"
    }
   ],
   "source": [
    "\"1\"+\"5\" # Concatenation of two strings"
   ]
  },
  {
   "cell_type": "code",
   "execution_count": 23,
   "metadata": {},
   "outputs": [
    {
     "ename": "TypeError",
     "evalue": "unsupported operand type(s) for +: 'int' and 'str'",
     "output_type": "error",
     "traceback": [
      "\u001b[0;31m---------------------------------------------------------------------------\u001b[0m",
      "\u001b[0;31mTypeError\u001b[0m                                 Traceback (most recent call last)",
      "\u001b[0;32m<ipython-input-23-1610b78c0dad>\u001b[0m in \u001b[0;36m<module>\u001b[0;34m\u001b[0m\n\u001b[0;32m----> 1\u001b[0;31m \u001b[0;36m1\u001b[0m\u001b[0;34m+\u001b[0m\u001b[0;34m\"3\"\u001b[0m \u001b[0;31m# Exception because an integer and string cannot be added - type conversion necessary\u001b[0m\u001b[0;34m\u001b[0m\u001b[0;34m\u001b[0m\u001b[0m\n\u001b[0m",
      "\u001b[0;31mTypeError\u001b[0m: unsupported operand type(s) for +: 'int' and 'str'"
     ]
    }
   ],
   "source": [
    "1+\"3\" # Exception because an integer and string cannot be added - type conversion necessary"
   ]
  },
  {
   "cell_type": "code",
   "execution_count": 24,
   "metadata": {},
   "outputs": [
    {
     "data": {
      "text/plain": [
       "2"
      ]
     },
     "execution_count": 24,
     "metadata": {},
     "output_type": "execute_result"
    }
   ],
   "source": [
    "1+True # True is always interpreted as 1 (intuitive, right?)"
   ]
  },
  {
   "cell_type": "code",
   "execution_count": 26,
   "metadata": {},
   "outputs": [
    {
     "data": {
      "text/plain": [
       "1"
      ]
     },
     "execution_count": 26,
     "metadata": {},
     "output_type": "execute_result"
    }
   ],
   "source": [
    "1+False # And False is interpreted as 0"
   ]
  },
  {
   "cell_type": "markdown",
   "metadata": {},
   "source": [
    "-------\n",
    "\n",
    "**(iii)** You can convert instances to `integer` or `floats`using `int`, `float`and `str`.\n",
    "\n",
    "Extend the expressions from **(ii)** except `1+True`and `1+False`so that the output yields `6`, `6.0` and `15`."
   ]
  },
  {
   "cell_type": "code",
   "execution_count": 27,
   "metadata": {},
   "outputs": [
    {
     "data": {
      "text/plain": [
       "4"
      ]
     },
     "execution_count": 27,
     "metadata": {},
     "output_type": "execute_result"
    }
   ],
   "source": [
    "1+3"
   ]
  },
  {
   "cell_type": "code",
   "execution_count": 28,
   "metadata": {},
   "outputs": [
    {
     "data": {
      "text/plain": [
       "6.0"
      ]
     },
     "execution_count": 28,
     "metadata": {},
     "output_type": "execute_result"
    }
   ],
   "source": [
    "1+5.0"
   ]
  },
  {
   "cell_type": "code",
   "execution_count": 31,
   "metadata": {},
   "outputs": [
    {
     "data": {
      "text/plain": [
       "6"
      ]
     },
     "execution_count": 31,
     "metadata": {},
     "output_type": "execute_result"
    }
   ],
   "source": [
    "int(\"1\"+\"5\") # yields 15\n",
    "int(\"1\")+int(\"5\") # yields 6"
   ]
  },
  {
   "cell_type": "code",
   "execution_count": 33,
   "metadata": {},
   "outputs": [
    {
     "data": {
      "text/plain": [
       "15"
      ]
     },
     "execution_count": 33,
     "metadata": {},
     "output_type": "execute_result"
    }
   ],
   "source": [
    "1+int(\"5\") # yields 6\n",
    "int(str(1) + \"5\") # yields 15"
   ]
  },
  {
   "cell_type": "code",
   "execution_count": 34,
   "metadata": {},
   "outputs": [
    {
     "data": {
      "text/plain": [
       "2"
      ]
     },
     "execution_count": 34,
     "metadata": {},
     "output_type": "execute_result"
    }
   ],
   "source": [
    "1+True"
   ]
  },
  {
   "cell_type": "code",
   "execution_count": 35,
   "metadata": {},
   "outputs": [
    {
     "data": {
      "text/plain": [
       "1"
      ]
     },
     "execution_count": 35,
     "metadata": {},
     "output_type": "execute_result"
    }
   ],
   "source": [
    "1+False"
   ]
  },
  {
   "cell_type": "markdown",
   "metadata": {},
   "source": [
    "----------------\n",
    "\n",
    "Exercise 3 - print & input\n",
    "===================\n",
    "\n",
    "**(a)** The function `print` enables users to print values to the screen. You can submit more than more value by seperating them by commas."
   ]
  },
  {
   "cell_type": "code",
   "execution_count": 36,
   "metadata": {},
   "outputs": [
    {
     "name": "stdout",
     "output_type": "stream",
     "text": [
      "I am 27 years old\n"
     ]
    }
   ],
   "source": [
    "print(\"I am\", 27, \"years old\")"
   ]
  },
  {
   "cell_type": "markdown",
   "metadata": {},
   "source": [
    "Familiarize yourself with the `print` function. Try to print `strings`, `floats`, `integers` and `lists`."
   ]
  },
  {
   "cell_type": "code",
   "execution_count": 41,
   "metadata": {},
   "outputs": [
    {
     "name": "stdout",
     "output_type": "stream",
     "text": [
      "Hi\n"
     ]
    }
   ],
   "source": [
    "print(\"Hi\")"
   ]
  },
  {
   "cell_type": "code",
   "execution_count": 43,
   "metadata": {},
   "outputs": [
    {
     "name": "stdout",
     "output_type": "stream",
     "text": [
      "2.0\n"
     ]
    }
   ],
   "source": [
    "print(2.0)"
   ]
  },
  {
   "cell_type": "code",
   "execution_count": 44,
   "metadata": {},
   "outputs": [
    {
     "name": "stdout",
     "output_type": "stream",
     "text": [
      "1\n"
     ]
    }
   ],
   "source": [
    "print(1)"
   ]
  },
  {
   "cell_type": "code",
   "execution_count": 46,
   "metadata": {},
   "outputs": [
    {
     "name": "stdout",
     "output_type": "stream",
     "text": [
      "['apple', 'banana', 'cherry']\n"
     ]
    }
   ],
   "source": [
    "thislist = [\"apple\", \"banana\", \"cherry\"]\n",
    "print(thislist)"
   ]
  },
  {
   "cell_type": "markdown",
   "metadata": {},
   "source": [
    "**(b)** Execute the following lines. What meaning do the expressions behind `sep`and `end`have?"
   ]
  },
  {
   "cell_type": "code",
   "execution_count": 37,
   "metadata": {},
   "outputs": [
    {
     "name": "stdout",
     "output_type": "stream",
     "text": [
      "Hey***there***I***am***7***years***old\n"
     ]
    }
   ],
   "source": [
    "print(\"Hey\", \"there\", \"I\", \"am\", 7, \"years\", \"old\", sep=\"***\")"
   ]
  },
  {
   "cell_type": "code",
   "execution_count": 38,
   "metadata": {},
   "outputs": [
    {
     "name": "stdout",
     "output_type": "stream",
     "text": [
      "Python rules!"
     ]
    }
   ],
   "source": [
    "print(\"Python rules!\", end=\"\")"
   ]
  },
  {
   "cell_type": "code",
   "execution_count": 39,
   "metadata": {},
   "outputs": [
    {
     "name": "stdout",
     "output_type": "stream",
     "text": [
      "I prefer-to have my own-line!end"
     ]
    }
   ],
   "source": [
    "print(\"I prefer\", \"to have my own\", \"line!\", sep=\"-\", end=\"end\")"
   ]
  },
  {
   "cell_type": "markdown",
   "metadata": {},
   "source": [
    "------\n",
    "\n",
    "**(c)** The built-in function `input` allows user input. Hint: `input` can take a string as a parameter with the prompt!\n",
    "\n",
    "Try to read the `input` from a user asking for his birthday and reference it with `birthday`. After that use the `print` function to print the user's birthday.\n",
    "\n",
    "Also print out the `type`of the birthday. In addition to that print the year of birthday and add `100` to it."
   ]
  },
  {
   "cell_type": "code",
   "execution_count": 48,
   "metadata": {},
   "outputs": [
    {
     "name": "stdout",
     "output_type": "stream",
     "text": [
      "Your birthday:1991\n",
      "<class 'str'>\n",
      "2091\n"
     ]
    }
   ],
   "source": [
    "birthday = input(\"Your birthday:\")\n",
    "print(type(birthday))\n",
    "print(int(birthday) + 100)"
   ]
  },
  {
   "cell_type": "markdown",
   "metadata": {},
   "source": [
    "----------------\n",
    "\n",
    "Exercise 4 - Comparison Operators\n",
    "===================\n",
    "\n",
    "With `<`, `>`, `<=`, `>=`, `==` and `!=` you can compare instances with their values.\n",
    "\n",
    "Investigate the behavior from `==` and `<` for all combinations from `1`, `1.0`, `2.0`, `\"1\"` and `\"2\"` only comparing two objects at a time."
   ]
  },
  {
   "cell_type": "code",
   "execution_count": null,
   "metadata": {},
   "outputs": [],
   "source": []
  },
  {
   "cell_type": "markdown",
   "metadata": {},
   "source": [
    "Is there anything that catches your attention?\n",
    "\n",
    "<font color=\"DodgerBlue\">\n",
    "1. `==` checks vor equality of values, not equality of objects (that is the reason there is no distinction between `int` and `float`).\n",
    "2. `<` can only be used between two objects fulfilling a common order relation meaning that integer and string cannot be compared with `<`.\n",
    "</font><br>\n",
    "\n",
    "\n",
    "Test the behavior of `<` for more strings. Also take into account the use of small and capital letters."
   ]
  },
  {
   "cell_type": "code",
   "execution_count": 49,
   "metadata": {},
   "outputs": [
    {
     "name": "stdout",
     "output_type": "stream",
     "text": [
      "True\n",
      "True\n"
     ]
    }
   ],
   "source": [
    "print(\"B\" < \"b\")\n",
    "print(\"a\" < \"b\")\n"
   ]
  },
  {
   "cell_type": "markdown",
   "metadata": {},
   "source": [
    "In which cases is `String1 < String2` equal to `True`?\n",
    "\n",
    "<font color=\"DodgerBlue\">\n",
    "If `String1` appears before before `String2` in the alphabetical order! Capital letters will always be \"smaller\" than their related lowercase (See: ASCII-table).\n",
    "</font><br>"
   ]
  },
  {
   "cell_type": "markdown",
   "metadata": {},
   "source": [
    "----------------\n",
    "\n",
    "Exercise 5 - Control structures, Data Types `str` and `list`\n",
    "===================\n",
    "\n",
    "**(a)** Create a reference `s` to the string \"Elon is numero uno\". You can access the `i-th` sign of `s` using `s[i]` with $i \\in \\{0,\\dots , \\text{len(s)} − 1\\}$"
   ]
  },
  {
   "cell_type": "code",
   "execution_count": 51,
   "metadata": {},
   "outputs": [
    {
     "data": {
      "text/plain": [
       "'n'"
      ]
     },
     "execution_count": 51,
     "metadata": {},
     "output_type": "execute_result"
    }
   ],
   "source": [
    "s = \"Elon is numero uno\"\n",
    "s[3]"
   ]
  },
  {
   "cell_type": "markdown",
   "metadata": {},
   "source": [
    "**(i)** Create a `for`-loop that will print every `s`sign. Hint: Inform yourself about the `range` function."
   ]
  },
  {
   "cell_type": "code",
   "execution_count": 53,
   "metadata": {},
   "outputs": [
    {
     "name": "stdout",
     "output_type": "stream",
     "text": [
      "E\n",
      "l\n",
      "o\n",
      "n\n",
      " \n",
      "i\n",
      "s\n",
      " \n",
      "n\n",
      "u\n",
      "m\n",
      "e\n",
      "r\n",
      "o\n",
      " \n",
      "u\n",
      "n\n",
      "o\n"
     ]
    }
   ],
   "source": [
    "for i in range(len(s)):\n",
    "    print(s[i])"
   ]
  },
  {
   "cell_type": "markdown",
   "metadata": {},
   "source": [
    "**(ii)** Print the position of whitespaces from `s` using a `for`-loop."
   ]
  },
  {
   "cell_type": "code",
   "execution_count": 54,
   "metadata": {},
   "outputs": [
    {
     "name": "stdout",
     "output_type": "stream",
     "text": [
      "4\n",
      "7\n",
      "14\n"
     ]
    }
   ],
   "source": [
    "for i in range(len(s)):\n",
    "    if s[i] == \" \":\n",
    "        print(i)\n"
   ]
  },
  {
   "cell_type": "markdown",
   "metadata": {},
   "source": [
    "**(iii)** Print the position of whitespaces from `s` in reverse order using a proper `for`-loop."
   ]
  },
  {
   "cell_type": "code",
   "execution_count": 55,
   "metadata": {},
   "outputs": [
    {
     "name": "stdout",
     "output_type": "stream",
     "text": [
      "14\n",
      "7\n",
      "4\n",
      "14\n",
      "7\n",
      "4\n"
     ]
    }
   ],
   "source": [
    "for i in range(len(s)-1, -1, -1):\n",
    "    if s[i] == \" \":\n",
    "        print(i)\n",
    "\n",
    "# oder:\n",
    "for i in range(len(s)):\n",
    "    if s[len(s)-1-i] == \" \":\n",
    "        print(len(s)-1-i)\n"
   ]
  },
  {
   "cell_type": "markdown",
   "metadata": {},
   "source": [
    "**(iv)** The methods `find`and `rfind` from the data type `str` allow you to search inside of a string. Use `rfind` and a `while`-loop in order to print the positions of whitespaces in reverse order."
   ]
  },
  {
   "cell_type": "code",
   "execution_count": 56,
   "metadata": {},
   "outputs": [
    {
     "name": "stdout",
     "output_type": "stream",
     "text": [
      "14\n",
      "7\n",
      "4\n"
     ]
    }
   ],
   "source": [
    "i = s.rfind(\" \")\n",
    "while i != -1:\n",
    "    print(i)\n",
    "    i = s.rfind(\" \", 0, i)\n"
   ]
  },
  {
   "cell_type": "markdown",
   "metadata": {},
   "source": [
    "**(b)** Create a reference on `lst` with `lst = list(s)` containing the letters from the string `s`."
   ]
  },
  {
   "cell_type": "code",
   "execution_count": 57,
   "metadata": {},
   "outputs": [
    {
     "data": {
      "text/plain": [
       "['E',\n",
       " 'l',\n",
       " 'o',\n",
       " 'n',\n",
       " ' ',\n",
       " 'i',\n",
       " 's',\n",
       " ' ',\n",
       " 'n',\n",
       " 'u',\n",
       " 'm',\n",
       " 'e',\n",
       " 'r',\n",
       " 'o',\n",
       " ' ',\n",
       " 'u',\n",
       " 'n',\n",
       " 'o']"
      ]
     },
     "execution_count": 57,
     "metadata": {},
     "output_type": "execute_result"
    }
   ],
   "source": [
    "lst = list(s)\n",
    "lst\n"
   ]
  },
  {
   "cell_type": "markdown",
   "metadata": {},
   "source": [
    "**(i)** With the operator `in` you can check if a list contains a specific value.\n",
    "\n",
    "Create a small program that checks if `s` contains letters of the alphabet checking every letter separately. The alphabet is given below."
   ]
  },
  {
   "cell_type": "code",
   "execution_count": 59,
   "metadata": {},
   "outputs": [
    {
     "name": "stdout",
     "output_type": "stream",
     "text": [
      "e is in s\n",
      "i is in s\n",
      "l is in s\n",
      "m is in s\n",
      "n is in s\n",
      "o is in s\n",
      "r is in s\n",
      "s is in s\n",
      "u is in s\n"
     ]
    }
   ],
   "source": [
    "alphabet = \"abcdefghijklmnopqrstuvwxyz\"\n",
    "\n",
    "for b in alphabet:\n",
    "    if b in lst or b.upper() in lst:\n",
    "        print(b, \"is in s\")\n"
   ]
  },
  {
   "cell_type": "markdown",
   "metadata": {},
   "source": [
    "**(ii)** You can delete the `i-th`element from the list using `del lst[i]`. Use this knowledge to remove all whitespaces from the list."
   ]
  },
  {
   "cell_type": "code",
   "execution_count": 61,
   "metadata": {},
   "outputs": [],
   "source": [
    "for i in range(len(lst)):\n",
    "    if i < len(lst) and lst[i] == \" \":\n",
    "        del lst[i]"
   ]
  },
  {
   "cell_type": "markdown",
   "metadata": {},
   "source": [
    "**(iii)** Solve the problem from **(ii)** using a `while`-loop."
   ]
  },
  {
   "cell_type": "code",
   "execution_count": 64,
   "metadata": {},
   "outputs": [
    {
     "data": {
      "text/plain": [
       "['E', 'l', 'o', 'n', 'i', 's', 'n', 'u', 'm', 'e', 'r', 'o', 'u', 'n', 'o']"
      ]
     },
     "execution_count": 64,
     "metadata": {},
     "output_type": "execute_result"
    }
   ],
   "source": [
    "lst = list(s)\n",
    "i = 0\n",
    "while i < len(lst):\n",
    "    if lst[i] == \" \":\n",
    "        del lst[i]\n",
    "    else:\n",
    "        i += 1\n",
    "lst"
   ]
  }
 ],
 "metadata": {
  "kernelspec": {
   "display_name": "Python 3",
   "language": "python",
   "name": "python3"
  },
  "language_info": {
   "codemirror_mode": {
    "name": "ipython",
    "version": 3
   },
   "file_extension": ".py",
   "mimetype": "text/x-python",
   "name": "python",
   "nbconvert_exporter": "python",
   "pygments_lexer": "ipython3",
   "version": "3.6.7"
  }
 },
 "nbformat": 4,
 "nbformat_minor": 2
}
