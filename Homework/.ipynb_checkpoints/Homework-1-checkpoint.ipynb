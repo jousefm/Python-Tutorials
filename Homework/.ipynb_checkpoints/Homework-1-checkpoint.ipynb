{
 "cells": [
  {
   "cell_type": "markdown",
   "metadata": {},
   "source": [
    "Python - Introduction\n",
    "===================\n",
    "\n",
    "\n",
    "**by Jousef Murad** - if you have any questions or feedback feel free to message me.\n",
    "\n",
    "-----\n",
    "\n",
    "**Hints**\n",
    "\n",
    "- With the `help(expression)`you can easily see information about a specific expression\n",
    "- The cells indicated with `In []:` can be used to type commands inside - to execute a cell you execute `CTRL+ENTER`. Holding `SHIFT+ENTER` the code will be executed and the next cell will be selected."
   ]
  },
  {
   "cell_type": "code",
   "execution_count": null,
   "metadata": {},
   "outputs": [],
   "source": [
    "print(\"Hello Mars\")"
   ]
  },
  {
   "cell_type": "markdown",
   "metadata": {},
   "source": [
    "- It is possible to write more than one line into a cell and execute a batch of code"
   ]
  },
  {
   "cell_type": "code",
   "execution_count": null,
   "metadata": {},
   "outputs": [],
   "source": [
    "a = 5\n",
    "b = 100\n",
    "a + b"
   ]
  },
  {
   "cell_type": "markdown",
   "metadata": {},
   "source": [
    "-------"
   ]
  },
  {
   "cell_type": "markdown",
   "metadata": {},
   "source": [
    "Exercise 1 - Arithmetic Operators and Expressions\n",
    "===================\n",
    "\n",
    "**(a)** Compare the output between `1.0 + 1e-16 + 1e-16` and `1e-16 + 1e-16 + 1.0`"
   ]
  },
  {
   "cell_type": "code",
   "execution_count": null,
   "metadata": {},
   "outputs": [],
   "source": []
  },
  {
   "cell_type": "markdown",
   "metadata": {},
   "source": [
    "What can you conclude from the order of evaluation?\n",
    "\n",
    "------"
   ]
  },
  {
   "cell_type": "markdown",
   "metadata": {},
   "source": [
    "**(b)** Given `7 * 2 ** 3 * 3 + 5 * 8 / 2 ** 2 - 32.1 // 8 + 10 % 3 * 2`\n",
    "\n",
    "What do the operators `+, -, *, /, //, %` and `**` mean and in which order are they applied?"
   ]
  },
  {
   "cell_type": "code",
   "execution_count": null,
   "metadata": {},
   "outputs": [],
   "source": []
  },
  {
   "cell_type": "markdown",
   "metadata": {},
   "source": [
    "--------------\n",
    "\n",
    "Put brackets around the expression so that the order of operations becomes clear."
   ]
  },
  {
   "cell_type": "code",
   "execution_count": null,
   "metadata": {},
   "outputs": [],
   "source": []
  },
  {
   "cell_type": "markdown",
   "metadata": {},
   "source": [
    "----------------\n",
    "\n",
    "Exercise 2 - Data Types\n",
    "===================\n",
    "\n",
    "**(a)** Every instance `inst` holds a data type, which can be investigated with `type(inst)`. Example: `type(1)`will generate the output `<class 'int'>`\n",
    "\n",
    "**(i)** Have a look at the output for `type`for the parameters `2.0, 1+3, 1+3.0, \"1\", True, [1,2,3], {1:100, 2:200}, {1,2,3}` as well as `print`"
   ]
  },
  {
   "cell_type": "code",
   "execution_count": null,
   "metadata": {},
   "outputs": [],
   "source": []
  },
  {
   "cell_type": "markdown",
   "metadata": {},
   "source": [
    "--------\n",
    "\n",
    "**(ii)** Interpret the different outputs: `1+5, 1+5.0, \"1\"+\"5\", 1+\"5\", 1+True` and `1+False`"
   ]
  },
  {
   "cell_type": "code",
   "execution_count": null,
   "metadata": {},
   "outputs": [],
   "source": []
  },
  {
   "cell_type": "markdown",
   "metadata": {},
   "source": [
    "-------\n",
    "\n",
    "**(iii)** You can convert instances to `integer` or `floats`using `int`, `float`and `str`.\n",
    "\n",
    "Extend the expressions from **(ii)** except `1+True`and `1+False`so that the output yields `6`, `6.0` and `15`."
   ]
  },
  {
   "cell_type": "code",
   "execution_count": null,
   "metadata": {},
   "outputs": [],
   "source": []
  },
  {
   "cell_type": "markdown",
   "metadata": {},
   "source": [
    "----------------\n",
    "\n",
    "Exercise 3 - print & input\n",
    "===================\n",
    "\n",
    "**(a)** The function `print` enables users to print values to the screen. You can submit more than more value by seperating them by commas."
   ]
  },
  {
   "cell_type": "code",
   "execution_count": 3,
   "metadata": {},
   "outputs": [
    {
     "name": "stdout",
     "output_type": "stream",
     "text": [
      "I am 27 years old\n"
     ]
    }
   ],
   "source": [
    "print(\"I am\", 27, \"years old\")"
   ]
  },
  {
   "cell_type": "markdown",
   "metadata": {},
   "source": [
    "Familiarize yourself with the `print` function. Try to print `strings`, `floats`, `integers` and `lists`."
   ]
  },
  {
   "cell_type": "code",
   "execution_count": null,
   "metadata": {},
   "outputs": [],
   "source": []
  },
  {
   "cell_type": "markdown",
   "metadata": {},
   "source": [
    "**(b)** Execute the following lines. What meaning do the expressions behind `sep`and `end`have?"
   ]
  },
  {
   "cell_type": "code",
   "execution_count": null,
   "metadata": {},
   "outputs": [],
   "source": [
    "print(\"Hey\", \"there\", \"I\", \"am\", 7, \"years\", \"old\", sep=\"***\")"
   ]
  },
  {
   "cell_type": "code",
   "execution_count": null,
   "metadata": {},
   "outputs": [],
   "source": [
    "print(\"Python rules!\", end=\"\")"
   ]
  },
  {
   "cell_type": "code",
   "execution_count": null,
   "metadata": {},
   "outputs": [],
   "source": [
    "print(\"I prefer\", \"to have my own\", \"line!\", sep=\"-\", end=\"end\")"
   ]
  },
  {
   "cell_type": "markdown",
   "metadata": {},
   "source": [
    "------\n",
    "\n",
    "**(c)** The built-in function `input` allows user input. Hint: `input` can take a string as a parameter with the prompt!\n",
    "\n",
    "Try to read the `input` from a user asking for his birthday and reference it with `birthday`. After that use the `print` function to print the user's birthday.\n",
    "\n",
    "Also print out the `type`of the birthday."
   ]
  },
  {
   "cell_type": "code",
   "execution_count": null,
   "metadata": {},
   "outputs": [],
   "source": []
  },
  {
   "cell_type": "markdown",
   "metadata": {},
   "source": [
    "----------------\n",
    "\n",
    "Exercise 4 - Comparison Operators\n",
    "===================\n",
    "\n",
    "With `<`, `>`, `<=`, `>=`, `==` and `!=` you can compare instances with their values.\n",
    "\n",
    "Investigate the behavior from `==` and `<` for all combinations from `1`, `1.0`, `2.0`, `\"1\"` and `\"2\"` only comparing two objects at a time."
   ]
  },
  {
   "cell_type": "code",
   "execution_count": null,
   "metadata": {},
   "outputs": [],
   "source": []
  },
  {
   "cell_type": "markdown",
   "metadata": {},
   "source": [
    "Is there anything that catches your attention?\n",
    "\n",
    "Test the behavior of `<` for more strings. Also take into account the use of small and capital letters."
   ]
  },
  {
   "cell_type": "code",
   "execution_count": null,
   "metadata": {},
   "outputs": [],
   "source": []
  },
  {
   "cell_type": "markdown",
   "metadata": {},
   "source": [
    "In which cases is `String1 < String2` equal to `True`?"
   ]
  },
  {
   "cell_type": "markdown",
   "metadata": {},
   "source": [
    "----------------\n",
    "\n",
    "Exercise 5 - Control structures, Data Types `str` and `list`\n",
    "===================\n",
    "\n",
    "**(a)** Create a reference `s` to the string \"Elon is numero uno\". You can access the `i-th` sign of `s` using `s[i]` with $i \\in \\{0,\\dots , \\text{len(s)} − 1\\}$"
   ]
  },
  {
   "cell_type": "code",
   "execution_count": null,
   "metadata": {},
   "outputs": [],
   "source": []
  },
  {
   "cell_type": "markdown",
   "metadata": {},
   "source": [
    "**(i)** Create a `for`-loop that will print every `s`sign. Hint: Inform yourself about the `range` function."
   ]
  },
  {
   "cell_type": "code",
   "execution_count": null,
   "metadata": {},
   "outputs": [],
   "source": []
  },
  {
   "cell_type": "markdown",
   "metadata": {},
   "source": [
    "**(ii)** Print the position of whitespaces from `s` using a `for`-loop."
   ]
  },
  {
   "cell_type": "code",
   "execution_count": null,
   "metadata": {},
   "outputs": [],
   "source": []
  },
  {
   "cell_type": "markdown",
   "metadata": {},
   "source": [
    "**(iii)** Print the position of whitespaces from `s` in reverse order using a proper `for`-loop."
   ]
  },
  {
   "cell_type": "code",
   "execution_count": null,
   "metadata": {},
   "outputs": [],
   "source": []
  },
  {
   "cell_type": "markdown",
   "metadata": {},
   "source": [
    "**(iv)** The methods `find`and `rfind` from the data type `str` allow you to search inside of a string. Use `rfind` and a `while`-loop in order to print the positions of whitespaces in reverse order."
   ]
  },
  {
   "cell_type": "code",
   "execution_count": null,
   "metadata": {},
   "outputs": [],
   "source": []
  },
  {
   "cell_type": "markdown",
   "metadata": {},
   "source": [
    "**(b)** Create a reference on `lst` with `lst = list(s)` containing the letters from the string `s`."
   ]
  },
  {
   "cell_type": "code",
   "execution_count": null,
   "metadata": {},
   "outputs": [],
   "source": []
  },
  {
   "cell_type": "markdown",
   "metadata": {},
   "source": [
    "**(i)** With the operator `in` you can check if a list contains a specific value.\n",
    "\n",
    "Create a small program that checks if `s` contains letters of the alphabet checking every letter separately. The alphabet is given below."
   ]
  },
  {
   "cell_type": "code",
   "execution_count": null,
   "metadata": {},
   "outputs": [],
   "source": [
    "alphabet = \"abcdefghijklmnopqrstuvwxyz\"\n"
   ]
  },
  {
   "cell_type": "markdown",
   "metadata": {},
   "source": [
    "**(ii)** You can delete the `i-th`element from the list using `del lst[i]`. Use this knowledge to remove all whitespaces from the list."
   ]
  },
  {
   "cell_type": "code",
   "execution_count": null,
   "metadata": {},
   "outputs": [],
   "source": []
  },
  {
   "cell_type": "markdown",
   "metadata": {},
   "source": [
    "**(iii)** Solve the problem from **(ii)** using a `while`-loop."
   ]
  },
  {
   "cell_type": "code",
   "execution_count": null,
   "metadata": {},
   "outputs": [],
   "source": []
  },
  {
   "cell_type": "markdown",
   "metadata": {},
   "source": [
    "<h1><center>Good luck and let me know how well you did in the YouTube comments!</center></h1>\n",
    "\n",
    "![Elon](https://media.giphy.com/media/2Y8Iq3xe121Ba3hUAM/giphy.gif)"
   ]
  }
 ],
 "metadata": {
  "kernelspec": {
   "display_name": "Python 3",
   "language": "python",
   "name": "python3"
  },
  "language_info": {
   "codemirror_mode": {
    "name": "ipython",
    "version": 3
   },
   "file_extension": ".py",
   "mimetype": "text/x-python",
   "name": "python",
   "nbconvert_exporter": "python",
   "pygments_lexer": "ipython3",
   "version": "3.6.7"
  }
 },
 "nbformat": 4,
 "nbformat_minor": 2
}
